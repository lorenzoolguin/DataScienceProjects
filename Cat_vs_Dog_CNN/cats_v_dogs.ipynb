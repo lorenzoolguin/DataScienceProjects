{
 "cells": [
  {
   "cell_type": "markdown",
   "metadata": {},
   "source": [
    "# Cat vs. Dog CNN Image Classifier\n",
    "## Introduction\n",
    "This workflow is inspired by similar work done by Balaji Srinivas and Sentdex on cat vs. dog classification. It is a basic example of convolution nerual networks and follows a standard machine learning workflow. \n",
    "\n",
    "## Dataset\n",
    "This dataset was downloaded from Kaggle. This version of the dataset was downloaded in early 2017, and contains serveral images that will cause errors when using the cv2.imread function.\n",
    "\n",
    "## Approach/Process\n",
    "1. Import Libraries\n",
    "2. Import data\n",
    "3. Data prepartion\n",
    "4. Training/Validation Split\n",
    "5. Build/Fit the Model\n",
    "6. Testing/Results\n",
    "\n",
    "## Results\n",
    "When tested on a picture of my own dog the model performed well, however, when tested on a personal picture of cats the model did not correctly classify the image.\n"
   ]
  },
  {
   "cell_type": "markdown",
   "metadata": {},
   "source": [
    "#### Library Imports"
   ]
  },
  {
   "cell_type": "code",
   "execution_count": 4,
   "metadata": {},
   "outputs": [],
   "source": [
    "import os\n",
    "import warnings\n",
    "import numpy as np\n",
    "import cv2         # cv -> computer vision library\n",
    "import random\n",
    "import matplotlib.pyplot as plt\n",
    "import pickle\n",
    "import seaborn as sns\n",
    "\n",
    "from PIL import Image\n",
    "warnings.filterwarnings(\"ignore\")"
   ]
  },
  {
   "cell_type": "code",
   "execution_count": 5,
   "metadata": {},
   "outputs": [],
   "source": [
    "directory = r'C:\\Users\\Lorenzo Olguin\\Desktop\\Projects\\cat_v_dog_cnn'\n",
    "cat = r'C:\\Users\\Lorenzo Olguin\\Desktop\\Projects\\Cat'\n",
    "dog = r'C:\\Users\\Lorenzo Olguin\\Desktop\\Projects\\Dog'\n",
    "categories = ['Cat','Dog']"
   ]
  },
  {
   "cell_type": "code",
   "execution_count": 6,
   "metadata": {},
   "outputs": [
    {
     "name": "stdout",
     "output_type": "stream",
     "text": [
      "25\n",
      "31\n"
     ]
    }
   ],
   "source": [
    "img_size = 100 # standard image size set for all photos. Keeps the photos all the same size.\n",
    "\n",
    "data = []\n",
    "\n",
    "for category in categories:\n",
    "    folder = os.path.join(directory, category)\n",
    "    label = categories.index(category)\n",
    "    count = 0 # counter for the number of photos that contain errors/will not work\n",
    "    for image in os.listdir(folder):\n",
    "        try:    \n",
    "            img_path = os.path.join(folder, image)\n",
    "            img_array = cv2.imread(img_path) #converts image into array\n",
    "            img_array = cv2.resize(img_array, (img_size, img_size)) #interpolation = cv2.INTER_AREA\n",
    "            data.append([img_array, label]) \n",
    "        except:\n",
    "            count +=1\n",
    "            pass\n",
    "    print(count)\n",
    "\n",
    "    \n",
    "# 25 Cat photos were removed/excluded from the original dataset, photos might have been corrupt\n",
    "# 31 Dog photos were removed/excluded from the original dataset"
   ]
  },
  {
   "cell_type": "code",
   "execution_count": 7,
   "metadata": {},
   "outputs": [
    {
     "data": {
      "text/plain": [
       "24946"
      ]
     },
     "execution_count": 7,
     "metadata": {},
     "output_type": "execute_result"
    }
   ],
   "source": [
    "len(data) #the number of photos of both dogs and cats."
   ]
  },
  {
   "cell_type": "code",
   "execution_count": 8,
   "metadata": {},
   "outputs": [
    {
     "data": {
      "text/plain": [
       "[array([[[ 88, 165, 204],\n",
       "         [ 93, 170, 209],\n",
       "         [ 98, 175, 214],\n",
       "         ...,\n",
       "         [129, 209, 246],\n",
       "         [123, 206, 244],\n",
       "         [122, 201, 240]],\n",
       " \n",
       "        [[ 88, 165, 204],\n",
       "         [ 93, 170, 209],\n",
       "         [ 98, 175, 214],\n",
       "         ...,\n",
       "         [131, 212, 247],\n",
       "         [126, 207, 245],\n",
       "         [124, 203, 242]],\n",
       " \n",
       "        [[ 89, 166, 205],\n",
       "         [ 94, 171, 210],\n",
       "         [ 97, 174, 213],\n",
       "         ...,\n",
       "         [137, 214, 247],\n",
       "         [129, 210, 245],\n",
       "         [126, 205, 244]],\n",
       " \n",
       "        ...,\n",
       " \n",
       "        [[ 57, 125, 160],\n",
       "         [ 58, 126, 161],\n",
       "         [ 60, 128, 163],\n",
       "         ...,\n",
       "         [  0,   4,   3],\n",
       "         [  0,   4,   3],\n",
       "         [  0,   3,   2]],\n",
       " \n",
       "        [[ 57, 124, 155],\n",
       "         [ 59, 126, 157],\n",
       "         [ 61, 128, 159],\n",
       "         ...,\n",
       "         [  1,   3,   3],\n",
       "         [  1,   3,   3],\n",
       "         [  1,   3,   3]],\n",
       " \n",
       "        [[ 54, 121, 152],\n",
       "         [ 56, 123, 154],\n",
       "         [ 60, 127, 158],\n",
       "         ...,\n",
       "         [  0,   1,   1],\n",
       "         [  0,   1,   1],\n",
       "         [  0,   1,   1]]], dtype=uint8),\n",
       " 0]"
      ]
     },
     "execution_count": 8,
     "metadata": {},
     "output_type": "execute_result"
    }
   ],
   "source": [
    "# A look at the first photo.\n",
    "# Numbers exist within the range of 0 to 255. \n",
    "data[0]"
   ]
  },
  {
   "cell_type": "code",
   "execution_count": 9,
   "metadata": {},
   "outputs": [
    {
     "name": "stdout",
     "output_type": "stream",
     "text": [
      "2\n",
      "2\n"
     ]
    }
   ],
   "source": [
    "# Size of each element in the data list\n",
    "# Each element contains the image array and the image classifer/label\n",
    "print(len(data[0]))\n",
    "print(len(data[21069]))   # Random number chosen to show consistency in the list"
   ]
  },
  {
   "cell_type": "code",
   "execution_count": 10,
   "metadata": {},
   "outputs": [],
   "source": [
    "#random.shuffle(data) # randomizes the dataset"
   ]
  },
  {
   "cell_type": "code",
   "execution_count": 11,
   "metadata": {},
   "outputs": [],
   "source": [
    "X = []\n",
    "y = []\n",
    "\n",
    "for features, labels in data:\n",
    "    X.append(features)\n",
    "    y.append(labels)"
   ]
  },
  {
   "cell_type": "code",
   "execution_count": 12,
   "metadata": {},
   "outputs": [],
   "source": [
    "# convert the lists into numpy arrays\n",
    "X = np.array(X)\n",
    "y = np.array(y)"
   ]
  },
  {
   "cell_type": "code",
   "execution_count": 13,
   "metadata": {},
   "outputs": [],
   "source": [
    "# Converts the numpy arrays into pickle files\n",
    "pickle.dump(X, open('X.pkl', 'wb'))\n",
    "pickle.dump(y, open('y.pkl', 'wb'))"
   ]
  },
  {
   "cell_type": "code",
   "execution_count": 14,
   "metadata": {},
   "outputs": [],
   "source": [
    "# Open the pickle files\n",
    "X = pickle.load(open('X.pkl', 'rb'))\n",
    "y = pickle.load(open('y.pkl', 'rb'))"
   ]
  },
  {
   "cell_type": "code",
   "execution_count": 15,
   "metadata": {},
   "outputs": [],
   "source": [
    "#feature scalling\n",
    "X = X/255 # RGB values range from 0 to 255"
   ]
  },
  {
   "cell_type": "code",
   "execution_count": 16,
   "metadata": {},
   "outputs": [
    {
     "data": {
      "text/plain": [
       "(24946, 100, 100, 3)"
      ]
     },
     "execution_count": 16,
     "metadata": {},
     "output_type": "execute_result"
    }
   ],
   "source": [
    "X.shape #Data, height, width, RGB channels, everything but the Data column is used in the Neural Network"
   ]
  },
  {
   "cell_type": "code",
   "execution_count": 18,
   "metadata": {},
   "outputs": [],
   "source": [
    "#Train/Test Split\n",
    "from sklearn.model_selection import train_test_split\n",
    "\n",
    "X_train, X_test, y_train, y_test = train_test_split(X, y, test_size=0.15, random_state=36)\n"
   ]
  },
  {
   "cell_type": "code",
   "execution_count": 16,
   "metadata": {},
   "outputs": [],
   "source": [
    "from keras.models import Sequential\n",
    "from keras.layers import Conv2D, MaxPooling2D, Flatten, Dense, Dropout"
   ]
  },
  {
   "cell_type": "code",
   "execution_count": 17,
   "metadata": {},
   "outputs": [],
   "source": [
    "# Instantiation of the model\n",
    "model = Sequential()\n",
    "\n",
    "#Adding layers to the model\n",
    "model.add(Conv2D(32, (5,5), activation='relu', padding='same'))\n",
    "model.add(MaxPooling2D(pool_size=(2,2)))\n",
    "\n",
    "model.add(Conv2D(64, (3,3), activation='relu', padding='same'))\n",
    "model.add(MaxPooling2D((2,2)))\n",
    "\n",
    "model.add(Conv2D(128, (3,3), activation='relu', padding='same'))\n",
    "model.add(MaxPooling2D((2,2)))\n",
    "\n",
    "model.add(Flatten())\n",
    "#now pass into NN layers\n",
    "\n",
    "model.add(Dense(128, input_shape = X.shape[1:], activation='relu')) # Dense layers must be 1-D\n",
    "model.add(Dropout(0.5)) # Having a single dropout layer after the last hidden layer is better \n",
    "# practice than to have dropout after every layer, dropout can lead to overfitting on the training data\n",
    "\n",
    "# 2 is for ouput of dog and cat for softmax, but I switched to sigmoid\n",
    "model.add(Dense(1, activation='sigmoid')) \n",
    "\n",
    "# Softmax is good for binary classification but I didn't seem to get the expect results\n",
    "# That is why I went with sigmoid here"
   ]
  },
  {
   "cell_type": "code",
   "execution_count": 18,
   "metadata": {},
   "outputs": [],
   "source": [
    "model.compile(optimizer = 'rmsprop', loss='binary_crossentropy', metrics=['accuracy']) # could also use adam optimizer\n",
    "#print(model.summary())\n"
   ]
  },
  {
   "cell_type": "code",
   "execution_count": 19,
   "metadata": {},
   "outputs": [
    {
     "data": {
      "text/plain": [
       "(21204, 100, 100, 3)"
      ]
     },
     "execution_count": 19,
     "metadata": {},
     "output_type": "execute_result"
    }
   ],
   "source": [
    "# Double checking the shape of the input data\n",
    "X_train.shape"
   ]
  },
  {
   "cell_type": "code",
   "execution_count": 20,
   "metadata": {},
   "outputs": [
    {
     "name": "stdout",
     "output_type": "stream",
     "text": [
      "Epoch 1/5\n",
      "597/597 [==============================] - 1205s 2s/step - loss: 0.6378 - accuracy: 0.6373 - val_loss: 0.5280 - val_accuracy: 0.7369\n",
      "Epoch 2/5\n",
      "597/597 [==============================] - 1231s 2s/step - loss: 0.5168 - accuracy: 0.7531 - val_loss: 0.5326 - val_accuracy: 0.7463\n",
      "Epoch 3/5\n",
      "597/597 [==============================] - 1405s 2s/step - loss: 0.4554 - accuracy: 0.7925 - val_loss: 0.4003 - val_accuracy: 0.8232\n",
      "Epoch 4/5\n",
      "597/597 [==============================] - 1416s 2s/step - loss: 0.4165 - accuracy: 0.8167 - val_loss: 0.4405 - val_accuracy: 0.8086\n",
      "Epoch 5/5\n",
      "597/597 [==============================] - 1175s 2s/step - loss: 0.3801 - accuracy: 0.8340 - val_loss: 0.3633 - val_accuracy: 0.8439\n"
     ]
    }
   ],
   "source": [
    "# Fitting/Making the model\n",
    "# Validation_split -> The model will set apart this fraction of the training data, will not train on it, and will \n",
    "# evaluate the loss and any model metrics on this data at the end of each epoch. The validation data is selected from \n",
    "# the last samples in the x and y data provided, before shuffling.\n",
    "history = model.fit(X_train, y_train, epochs=5, validation_split=0.1, verbose=1)"
   ]
  },
  {
   "cell_type": "code",
   "execution_count": 40,
   "metadata": {},
   "outputs": [],
   "source": [
    "import datetime as dt\n",
    "model.save(str(dt.date.today()) + 'cat_v_dog' + str(1) + '.h5')"
   ]
  },
  {
   "cell_type": "code",
   "execution_count": 25,
   "metadata": {},
   "outputs": [
    {
     "data": {
      "image/png": "[encoded data removed]",
      "text/plain": [
       "<Figure size 432x288 with 1 Axes>"
      ]
     },
     "metadata": {},
     "output_type": "display_data"
    },
    {
     "data": {
      "image/png": "[encoded data removed]",
      "text/plain": [
       "<Figure size 432x288 with 1 Axes>"
      ]
     },
     "metadata": {},
     "output_type": "display_data"
    }
   ],
   "source": [
    "sns.set_style('dark')\n",
    "loss = history.history['loss']\n",
    "val_loss = history.history['val_loss']\n",
    "epochs = range(1, len(loss) + 1)\n",
    "plt.plot(epochs, loss, 'y', label='Training Loss')\n",
    "plt.plot(epochs, val_loss, 'r', label = 'Validation Loss')\n",
    "plt.title('Training and Validation Loss')\n",
    "plt.xlabel('Epochs')\n",
    "plt.ylabel('Loss')\n",
    "plt.legend()\n",
    "plt.show()\n",
    "\n",
    "acc = history.history['accuracy']\n",
    "val_acc = history.history['val_accuracy']\n",
    "plt.plot(epochs, acc, 'y', label='Training acc')\n",
    "plt.plot(epochs, val_acc, 'r', label = 'Validation acc')\n",
    "plt.title('Training and Validation acc')\n",
    "plt.xlabel('Epochs')\n",
    "plt.ylabel('acc')\n",
    "plt.legend()\n",
    "plt.show()\n"
   ]
  },
  {
   "cell_type": "code",
   "execution_count": 19,
   "metadata": {},
   "outputs": [],
   "source": [
    "#We can load the trained model, so we don't have to train again for 300 epochs!\n",
    "\n",
    "from keras.models import load_model\n",
    "model = load_model('2021-08-15cat_v_dog1.h5')\n"
   ]
  },
  {
   "cell_type": "code",
   "execution_count": 20,
   "metadata": {},
   "outputs": [
    {
     "name": "stdout",
     "output_type": "stream",
     "text": [
      "117/117 [==============================] - 90s 773ms/step - loss: 0.3947 - accuracy: 0.8335\n",
      "Accuracy =  83.3511471748352 %\n"
     ]
    }
   ],
   "source": [
    "__, acc = model.evaluate(X_test, y_test)\n",
    "print('Accuracy = ', (acc*100.0), '%')"
   ]
  },
  {
   "cell_type": "code",
   "execution_count": 41,
   "metadata": {},
   "outputs": [
    {
     "name": "stdout",
     "output_type": "stream",
     "text": [
      "[[1548  288]\n",
      " [ 300 1606]]\n"
     ]
    }
   ],
   "source": [
    "threshold = 0.5725\n",
    "from sklearn.metrics import confusion_matrix\n",
    "y_pred = (model.predict(X_test) >= threshold).astype(int)\n",
    "cm = confusion_matrix(y_test, y_pred)\n",
    "print(cm)\n"
   ]
  },
  {
   "cell_type": "code",
   "execution_count": 28,
   "metadata": {},
   "outputs": [],
   "source": [
    "# from sklearn.metrics import plot_confusion_matrix\n",
    "# matrix = plot_confusion_matrix(cm, X_test, y_test)\n",
    "# matrix.ax_.set_title('Confusion Matrix', color='black')\n",
    "# plt.xlabel('Predicted Label')\n",
    "# plt.ylabel('True Label')\n"
   ]
  },
  {
   "cell_type": "code",
   "execution_count": 29,
   "metadata": {
    "scrolled": true
   },
   "outputs": [],
   "source": [
    "\"\"\"\n",
    "Receiver Operating Characteristic (ROC) Curve is a plot that helps us \n",
    "visualize the performance of a binary classifier when the threshold is varied. \n",
    "\"\"\"\n",
    "\n",
    "from sklearn.metrics import roc_curve\n",
    "y_preds = model.predict(X_test).ravel()"
   ]
  },
  {
   "cell_type": "code",
   "execution_count": 30,
   "metadata": {},
   "outputs": [
    {
     "data": {
      "image/png": "[encoded data removed]",
      "text/plain": [
       "<Figure size 432x288 with 1 Axes>"
      ]
     },
     "metadata": {},
     "output_type": "display_data"
    }
   ],
   "source": [
    "fpr, tpr, thresholds = roc_curve(y_test, y_preds)\n",
    "plt.figure(1)\n",
    "plt.plot([0, 1], [0, 1], 'y--')\n",
    "plt.plot(fpr, tpr, marker='.')\n",
    "plt.xlabel('False Positive Rate')\n",
    "plt.ylabel('True Positive Rate')\n",
    "plt.title('ROC Curve')\n",
    "plt.show()"
   ]
  },
  {
   "cell_type": "code",
   "execution_count": 31,
   "metadata": {},
   "outputs": [
    {
     "name": "stdout",
     "output_type": "stream",
     "text": [
      "Ideal threshold is:  428    0.572594\n",
      "Name: thresholds, dtype: float32\n"
     ]
    }
   ],
   "source": [
    "#Finding the optimal threshold value would be where \"true positive rate\" is high and \"false positive rate\" is low\n",
    "#We should find the threshold where tpr-(1-fpr) is zero or close to zero.\n",
    "\n",
    "import pandas as pd\n",
    "i = np.arange(len(tpr))\n",
    "roc = pd.DataFrame({'tf' : pd.Series(tpr-(1-fpr), index=i), 'thresholds' : pd.Series(thresholds, index=i)})\n",
    "ideal_roc_thresh = roc.iloc[(roc.tf-0).abs().argsort()[:1]] # Locate the point where the value is close to 0\n",
    "print(\"Ideal threshold is: \", ideal_roc_thresh['thresholds'])"
   ]
  },
  {
   "cell_type": "code",
   "execution_count": 32,
   "metadata": {},
   "outputs": [
    {
     "name": "stdout",
     "output_type": "stream",
     "text": [
      "Area under curve, AUC =  0.9128646036938736\n"
     ]
    }
   ],
   "source": [
    "#AUC\n",
    "#Area under the curve (AUC) for ROC plot can be used to understand how well a classifier \n",
    "#is performing. \n",
    "#% chance that the model can distinguish between positive and negative classes.\n",
    "\n",
    "from sklearn.metrics import auc\n",
    "auc_value = auc(fpr, tpr)\n",
    "print(\"Area under curve, AUC = \", auc_value)\n"
   ]
  }
 ],
 "metadata": {
  "kernelspec": {
   "display_name": "Python 3",
   "language": "python",
   "name": "python3"
  },
  "language_info": {
   "codemirror_mode": {
    "name": "ipython",
    "version": 3
   },
   "file_extension": ".py",
   "mimetype": "text/x-python",
   "name": "python",
   "nbconvert_exporter": "python",
   "pygments_lexer": "ipython3",
   "version": "3.8.5"
  }
 },
 "nbformat": 4,
 "nbformat_minor": 4
}
